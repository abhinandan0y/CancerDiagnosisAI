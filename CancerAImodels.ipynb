{
 "cells": [
  {
   "cell_type": "markdown",
   "id": "16c22d6e-9bb6-4db9-9137-2d8e749fa28c",
   "metadata": {},
   "source": [
    "Import necessary packages"
   ]
  },
  {
   "cell_type": "code",
   "execution_count": 4,
   "id": "ffcac82c-3659-4b06-80b8-d11e70de6f90",
   "metadata": {},
   "outputs": [],
   "source": [
    "# Import necessary libraries for data manipulation and visualization\n",
    "import pandas as pd\n",
    "import numpy as np\n",
    "import requests, zipfile, io, os\n",
    "from sklearn.preprocessing import OneHotEncoder, StandardScaler, LabelEncoder\n",
    "from sklearn.feature_selection import SelectKBest, f_classif\n",
    "from sklearn.model_selection import train_test_split\n",
    "\n",
    "import matplotlib.pyplot as plt\n",
    "\n",
    "# Import libraries for machine learning models\n",
    "from sklearn.dummy import DummyClassifier\n",
    "from sklearn.neural_network import MLPClassifier\n",
    "from sklearn.neighbors import KNeighborsClassifier\n",
    "from sklearn.svm import SVC\n",
    "from sklearn.gaussian_process import GaussianProcessClassifier\n",
    "from sklearn.gaussian_process.kernels import RBF\n",
    "from sklearn.tree import DecisionTreeClassifier\n",
    "from sklearn.ensemble import RandomForestClassifier, AdaBoostClassifier\n",
    "from sklearn.naive_bayes import GaussianNB\n",
    "from sklearn.discriminant_analysis import QuadraticDiscriminantAnalysis\n",
    "from sklearn.metrics import classification_report, confusion_matrix, accuracy_score"
   ]
  },
  {
   "cell_type": "code",
   "execution_count": 37,
   "id": "332f8e90",
   "metadata": {},
   "outputs": [],
   "source": [
    "#!pip install seaborn\n",
    "#import seaborn as sns\n",
    "import matplotlib.pyplot as plt"
   ]
  },
  {
   "cell_type": "markdown",
   "id": "bccbfb67-6b8b-4bd4-8062-8b89b089e1e6",
   "metadata": {},
   "source": [
    "Set directory to write and read files"
   ]
  },
  {
   "cell_type": "code",
   "execution_count": 7,
   "id": "3a8296e7-d153-475a-b661-647ddf131440",
   "metadata": {},
   "outputs": [],
   "source": [
    "data_directory = \"Cancer_datasets\"\n",
    "headers = {\n",
    "    'Connection': 'keep-alive',\n",
    "    'Host': 'static-content.springer.com',\n",
    "    'Referer': 'https://www.nature.com/',\n",
    "    'Upgrade-Insecure-Requests': '1',\n",
    "    'Accept': 'text/html,application/xhtml+xml,application/xml;q=0.9,image/webp,*/*;q=0.8',\n",
    "    'User-Agent': 'Mozilla/5.0 (X11; Ubuntu; Linux x86_64; rv:88.0) Gecko/20100101 Firefox/88.0',\n",
    "    'Accept-Language': 'en-US,en;q=0.5'\n",
    "}\n",
    "url = 'https://static-content.springer.com/esm/art%3A10.1038%2Fnmeth.2810/MediaObjects/41592_2014_BFnmeth2810_MOESM206_ESM.zip'\n",
    "request = requests.get(url, headers=headers, stream=True)\n",
    "zip_reader = zipfile.ZipFile(io.BytesIO(request.content))\n",
    "zip_reader.extractall(data_directory)"
   ]
  },
  {
   "cell_type": "code",
   "execution_count": 9,
   "id": "c9954eca",
   "metadata": {},
   "outputs": [
    {
     "data": {
      "text/plain": [
       "'/home/abhinandan/Downloads/AR_Lab/Cancer'"
      ]
     },
     "execution_count": 9,
     "metadata": {},
     "output_type": "execute_result"
    }
   ],
   "source": [
    "os. getcwd()"
   ]
  },
  {
   "cell_type": "markdown",
   "id": "5d31758b-3c70-44a9-af15-dc6ef3a7f269",
   "metadata": {},
   "source": [
    "Preprocessing"
   ]
  },
  {
   "cell_type": "code",
   "execution_count": 8,
   "id": "e5a7efd6-33cc-42e4-ab9f-c6bc0670859b",
   "metadata": {},
   "outputs": [],
   "source": [
    "cancer_types = [\"Breast\", \"Colon\", \"GBM\", \"Lung\"]\n",
    "breast_gene_exp_df = pd.read_csv(\n",
    "    \"{}/Breast/BREAST_Gene_Expression.txt\".format(data_directory),\n",
    "    delimiter=r\"\\s+\", index_col=0)\n",
    "colon_gene_exp_df = pd.read_csv(\n",
    "    \"{}/Colon/COLON_Gene_Expression.txt\".format(data_directory), \n",
    "    delimiter=r\"\\s+\", index_col=0) \n",
    "gbm_gene_exp_df = pd.read_csv(\n",
    "    \"{}/GBM/GLIO_Gene_Expression.txt\".format(data_directory), \n",
    "    delimiter=r\"\\s+\", index_col=0) \n",
    "lung_gene_exp_df = pd.read_csv(\n",
    "    \"{}/Lung/LUNG_Gene_Expression.txt\".format(data_directory), \n",
    "    delimiter=r\"\\s+\", index_col=0)"
   ]
  },
  {
   "cell_type": "code",
   "execution_count": 10,
   "id": "17ac20c4-0155-446c-843c-79003b860d0e",
   "metadata": {},
   "outputs": [
    {
     "name": "stdout",
     "output_type": "stream",
     "text": [
      "Number of common genes: 11925\n"
     ]
    }
   ],
   "source": [
    "genes_breast = set(breast_gene_exp_df.index)\n",
    "genes_colon = set(colon_gene_exp_df.index)\n",
    "genes_gdm = set(gbm_gene_exp_df.index)\n",
    "genes_lung = set(lung_gene_exp_df.index)\n",
    "genes_found_in_all_sets = genes_breast.intersection(\n",
    "    genes_colon).intersection(\n",
    "    genes_gdm).intersection(\n",
    "    genes_lung)\n",
    "print(f\"Number of common genes: {len(genes_found_in_all_sets)}\")"
   ]
  },
  {
   "cell_type": "code",
   "execution_count": 11,
   "id": "8fa76c3a-595d-4598-97af-f7fd573e25a0",
   "metadata": {},
   "outputs": [],
   "source": [
    "exp_df = pd.DataFrame()\n",
    "for df, cancer_type in zip([breast_gene_exp_df, colon_gene_exp_df, \n",
    "                            gbm_gene_exp_df, lung_gene_exp_df],\n",
    "                            cancer_types):\n",
    "    transposed_df = pd.DataFrame(df.reindex(genes_found_in_all_sets).transpose())\n",
    "    transposed_df[\"cancer_type\"] = cancer_type\n",
    "    exp_df = pd.concat([exp_df, transposed_df])\n",
    "exp_df.to_csv(\"expression.csv.bz2\")"
   ]
  },
  {
   "cell_type": "code",
   "execution_count": 12,
   "id": "343fb94d-64b5-41fe-bb96-a1d0df1cd6f4",
   "metadata": {},
   "outputs": [],
   "source": [
    "X = exp_df.drop([\"cancer_type\"], axis=1).values\n",
    "targets = exp_df[\"cancer_type\"].values\n",
    "X_train, X_test, y_train, y_test = train_test_split(X, targets, random_state=42)\n",
    "scaler = StandardScaler()\n",
    "scaler.fit(X_train)\n",
    "X_train_scaled = scaler.transform(X_train)\n",
    "X_test_scaled = scaler.transform(X_test)"
   ]
  },
  {
   "cell_type": "markdown",
   "id": "7d5fe1b6-df8b-4f8b-913c-e471c21b4bd9",
   "metadata": {},
   "source": [
    "Random Forest Model"
   ]
  },
  {
   "cell_type": "code",
   "execution_count": 13,
   "id": "aff025a2-e739-410c-94b3-32ae6009316f",
   "metadata": {},
   "outputs": [
    {
     "name": "stdout",
     "output_type": "stream",
     "text": [
      "Random Forest Accuracy: 0.9076923076923077\n"
     ]
    }
   ],
   "source": [
    "rf_model = RandomForestClassifier()\n",
    "rf_model.fit(X_train, y_train)\n",
    "rf_accuracy = rf_model.score(X_test, y_test)\n",
    "print(f\"Random Forest Accuracy: {rf_accuracy}\")"
   ]
  },
  {
   "cell_type": "markdown",
   "id": "0c542bb6-d2c3-4fc2-83da-7dcb4a34c883",
   "metadata": {},
   "source": [
    "Support Vector Machine Model"
   ]
  },
  {
   "cell_type": "code",
   "execution_count": 14,
   "id": "c6158e95-33de-4dd1-976d-7a6796ddcb43",
   "metadata": {},
   "outputs": [
    {
     "name": "stdout",
     "output_type": "stream",
     "text": [
      "SVM Accuracy: 0.6307692307692307\n"
     ]
    }
   ],
   "source": [
    "svm_model = SVC()\n",
    "svm_model.fit(X_train_scaled, y_train)\n",
    "svm_accuracy = svm_model.score(X_test_scaled, y_test)\n",
    "print(f\"SVM Accuracy: {svm_accuracy}\")"
   ]
  },
  {
   "cell_type": "markdown",
   "id": "96e75023-5f7c-4c63-875d-bad3d51dbb98",
   "metadata": {},
   "source": [
    "Neural Network Model"
   ]
  },
  {
   "cell_type": "code",
   "execution_count": 15,
   "id": "1e5228d9-b095-49dd-8bfe-85b082462694",
   "metadata": {},
   "outputs": [
    {
     "name": "stdout",
     "output_type": "stream",
     "text": [
      "Neural Network Accuracy: 0.5769230769230769\n"
     ]
    }
   ],
   "source": [
    "nn_model = MLPClassifier(hidden_layer_sizes=(100,), max_iter=300, random_state=42)\n",
    "nn_model.fit(X_train_scaled, y_train)\n",
    "nn_accuracy = nn_model.score(X_test_scaled, y_test)\n",
    "nn_predictions = nn_model.predict(X_test_scaled)\n",
    "print(f\"Neural Network Accuracy: {nn_accuracy}\")"
   ]
  },
  {
   "cell_type": "markdown",
   "id": "c8e88e55-d7ca-4d4e-b7e3-d5960dff538d",
   "metadata": {},
   "source": [
    "Report"
   ]
  },
  {
   "cell_type": "code",
   "execution_count": 16,
   "id": "97a83fa7-9b5b-43d3-a404-ba3f56f8a35d",
   "metadata": {},
   "outputs": [
    {
     "name": "stdout",
     "output_type": "stream",
     "text": [
      "            Model  Accuracy\n",
      "0   Random Forest  0.907692\n",
      "1             SVM  0.630769\n",
      "2  Neural Network  0.576923\n"
     ]
    }
   ],
   "source": [
    "results_df = pd.DataFrame({\n",
    "    'Model': ['Random Forest', 'SVM', 'Neural Network'],\n",
    "    'Accuracy': [rf_accuracy, svm_accuracy, nn_accuracy]\n",
    "})\n",
    "print(results_df)"
   ]
  },
  {
   "cell_type": "code",
   "execution_count": 39,
   "id": "3ec24b62-a78c-4586-9515-47c6d9890901",
   "metadata": {},
   "outputs": [
    {
     "data": {
      "image/png": "[encoded data removed]",
      "text/plain": [
       "<Figure size 864x432 with 1 Axes>"
      ]
     },
     "metadata": {
      "needs_background": "light"
     },
     "output_type": "display_data"
    }
   ],
   "source": [
    "rf_report = classification_report(y_test, rf_model.predict(X_test_scaled), output_dict=True)\n",
    "svm_report = classification_report(y_test, svm_model.predict(X_test_scaled), output_dict=True)\n",
    "nn_report = classification_report(y_test, nn_predictions, output_dict=True)\n",
    "\n",
    "performance_df = pd.DataFrame({\n",
    "    'Metric': ['Precision', 'Recall', 'F1-Score'],\n",
    "    'Random Forest': [rf_report['weighted avg']['precision'], rf_report['weighted avg']['recall'], rf_report['weighted avg']['f1-score']],\n",
    "    'SVM': [svm_report['weighted avg']['precision'], svm_report['weighted avg']['recall'], svm_report['weighted avg']['f1-score']],\n",
    "    'Neural Network': [nn_report['weighted avg']['precision'], nn_report['weighted avg']['recall'], nn_report['weighted avg']['f1-score']]\n",
    "})\n",
    "\n",
    "performance_melted = performance_df.melt(id_vars='Metric', var_name='Model', value_name='Score')\n",
    "\n",
    "# Set up the figure\n",
    "plt.figure(figsize=(12, 6))\n",
    "\n",
    "# Get unique metrics and models for plotting\n",
    "metrics = performance_melted['Metric'].unique()\n",
    "models = performance_melted['Model'].unique()\n",
    "x = np.arange(len(metrics))  # X-axis positions for the groups\n",
    "width = 0.2  # Width of the bars\n",
    "\n",
    "# Plot bars for each model\n",
    "for i, model in enumerate(models):\n",
    "    model_data = performance_melted[performance_melted['Model'] == model]\n",
    "    plt.bar(x + i * width, model_data['Score'], width=width, label=model)\n",
    "\n",
    "# Add labels, title, and adjust ticks\n",
    "plt.xticks(x + width, metrics)\n",
    "plt.ylim(0, 1)\n",
    "plt.xlabel('Metric')\n",
    "plt.ylabel('Score')\n",
    "plt.title('Model Performance Comparison')\n",
    "plt.legend(title='Model')\n",
    "\n",
    "# Display the plot\n",
    "plt.tight_layout()\n",
    "plt.show()"
   ]
  },
  {
   "cell_type": "code",
   "execution_count": null,
   "id": "b6c0b9f8",
   "metadata": {},
   "outputs": [],
   "source": []
  }
 ],
 "metadata": {
  "kernelspec": {
   "display_name": "Python 3 (ipykernel)",
   "language": "python",
   "name": "python3"
  },
  "language_info": {
   "codemirror_mode": {
    "name": "ipython",
    "version": 3
   },
   "file_extension": ".py",
   "mimetype": "text/x-python",
   "name": "python",
   "nbconvert_exporter": "python",
   "pygments_lexer": "ipython3",
   "version": "3.8.10"
  }
 },
 "nbformat": 4,
 "nbformat_minor": 5
}
